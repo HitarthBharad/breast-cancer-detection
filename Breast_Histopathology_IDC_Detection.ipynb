{
  "nbformat": 4,
  "nbformat_minor": 0,
  "metadata": {
    "colab": {
      "name": "Breast Histopathology IDC-Detection-2",
      "provenance": [],
      "collapsed_sections": [],
      "toc_visible": true
    },
    "kernelspec": {
      "display_name": "Python 3",
      "name": "python3"
    },
    "accelerator": "GPU"
  },
  "cells": [
    {
      "cell_type": "markdown",
      "metadata": {
        "colab_type": "text",
        "id": "tMce8muBqXQP"
      },
      "source": [
        "# Tensorflow with GPU\n",
        "\n",
        "This notebook provides an introduction to computing on a [GPU](https://cloud.google.com/gpu) in Colab. In this notebook you will connect to a GPU, and then run some basic TensorFlow operations on both the CPU and a GPU, observing the speedup provided by using the GPU.\n"
      ]
    },
    {
      "cell_type": "markdown",
      "metadata": {
        "colab_type": "text",
        "id": "oM_8ELnJq_wd"
      },
      "source": [
        "## Enabling and testing the GPU\n",
        "\n",
        "First, you'll need to enable GPUs for the notebook:\n",
        "\n",
        "- Navigate to Edit→Notebook Settings\n",
        "- select GPU from the Hardware Accelerator drop-down\n",
        "\n",
        "Next, we'll confirm that we can connect to the GPU with tensorflow:"
      ]
    },
    {
      "cell_type": "code",
      "metadata": {
        "colab_type": "code",
        "id": "sXnDmXR7RDr2",
        "colab": {
          "base_uri": "https://localhost:8080/",
          "height": 34
        },
        "outputId": "f3b59db3-90c2-4466-f762-618287acd5fa"
      },
      "source": [
        "%tensorflow_version 2.x\n",
        "import tensorflow as tf\n",
        "device_name = tf.test.gpu_device_name()\n",
        "if device_name != '/device:GPU:0':\n",
        "  raise SystemError('GPU device not found')\n",
        "print('Found GPU at: {}'.format(device_name))"
      ],
      "execution_count": null,
      "outputs": [
        {
          "output_type": "stream",
          "text": [
            "Found GPU at: /device:GPU:0\n"
          ],
          "name": "stdout"
        }
      ]
    },
    {
      "cell_type": "markdown",
      "metadata": {
        "colab_type": "text",
        "id": "v3fE7KmKRDsH"
      },
      "source": [
        "## Observe TensorFlow speedup on GPU relative to CPU\n",
        "\n",
        "This example constructs a typical convolutional neural network layer over a\n",
        "random image and manually places the resulting ops on either the CPU or the GPU\n",
        "to compare execution speed."
      ]
    },
    {
      "cell_type": "code",
      "metadata": {
        "colab_type": "code",
        "id": "Y04m-jvKRDsJ",
        "colab": {
          "base_uri": "https://localhost:8080/",
          "height": 122
        },
        "outputId": "f9e59806-bda2-481d-9fed-2e319e17760a"
      },
      "source": [
        "%tensorflow_version 2.x\n",
        "import tensorflow as tf\n",
        "import timeit\n",
        "\n",
        "device_name = tf.test.gpu_device_name()\n",
        "if device_name != '/device:GPU:0':\n",
        "  print(\n",
        "      '\\n\\nThis error most likely means that this notebook is not '\n",
        "      'configured to use a GPU.  Change this in Notebook Settings via the '\n",
        "      'command palette (cmd/ctrl-shift-P) or the Edit menu.\\n\\n')\n",
        "  raise SystemError('GPU device not found')\n",
        "\n",
        "def cpu():\n",
        "  with tf.device('/cpu:0'):\n",
        "    random_image_cpu = tf.random.normal((100, 100, 100, 3))\n",
        "    net_cpu = tf.keras.layers.Conv2D(32, 7)(random_image_cpu)\n",
        "    return tf.math.reduce_sum(net_cpu)\n",
        "\n",
        "def gpu():\n",
        "  with tf.device('/device:GPU:0'):\n",
        "    random_image_gpu = tf.random.normal((100, 100, 100, 3))\n",
        "    net_gpu = tf.keras.layers.Conv2D(32, 7)(random_image_gpu)\n",
        "    return tf.math.reduce_sum(net_gpu)\n",
        "  \n",
        "# We run each op once to warm up; see: https://stackoverflow.com/a/45067900\n",
        "cpu()\n",
        "gpu()\n",
        "\n",
        "# Run the op several times.\n",
        "print('Time (s) to convolve 32x7x7x3 filter over random 100x100x100x3 images '\n",
        "      '(batch x height x width x channel). Sum of ten runs.')\n",
        "print('CPU (s):')\n",
        "cpu_time = timeit.timeit('cpu()', number=10, setup=\"from __main__ import cpu\")\n",
        "print(cpu_time)\n",
        "print('GPU (s):')\n",
        "gpu_time = timeit.timeit('gpu()', number=10, setup=\"from __main__ import gpu\")\n",
        "print(gpu_time)\n",
        "print('GPU speedup over CPU: {}x'.format(int(cpu_time/gpu_time)))"
      ],
      "execution_count": null,
      "outputs": [
        {
          "output_type": "stream",
          "text": [
            "Time (s) to convolve 32x7x7x3 filter over random 100x100x100x3 images (batch x height x width x channel). Sum of ten runs.\n",
            "CPU (s):\n",
            "3.1538856619999933\n",
            "GPU (s):\n",
            "0.09794350800007123\n",
            "GPU speedup over CPU: 32x\n"
          ],
          "name": "stdout"
        }
      ]
    },
    {
      "cell_type": "code",
      "metadata": {
        "id": "3btmYkNZCMUd",
        "colab_type": "code",
        "colab": {}
      },
      "source": [
        "import pandas as pd\n",
        "import numpy as np\n",
        "import matplotlib.image as mpimg\n",
        "import matplotlib.pyplot as plt\n",
        "from matplotlib import pyplot\n",
        "%matplotlib inline\n",
        "import seaborn as sns\n",
        "import os\n",
        "from os.path import isfile\n",
        "import tensorflow as tf\n",
        "import keras\n",
        "from keras.utils import np_utils\n",
        "import itertools\n",
        "import shutil\n",
        "np.random.seed(42)\n",
        "from PIL import Image\n",
        "from PIL import ImageFile\n",
        "ImageFile.LOAD_TRUNCATED_IMAGES = True"
      ],
      "execution_count": null,
      "outputs": []
    },
    {
      "cell_type": "code",
      "metadata": {
        "id": "uKfxkiMqCQBE",
        "colab_type": "code",
        "colab": {
          "base_uri": "https://localhost:8080/",
          "height": 520
        },
        "outputId": "82bf7832-00bc-43d6-bdef-db30a11a2eaf"
      },
      "source": [
        "from google.colab import drive\n",
        "drive.mount('/content/drive')"
      ],
      "execution_count": null,
      "outputs": [
        {
          "output_type": "error",
          "ename": "KeyboardInterrupt",
          "evalue": "ignored",
          "traceback": [
            "\u001b[0;31m---------------------------------------------------------------------------\u001b[0m",
            "\u001b[0;31mKeyboardInterrupt\u001b[0m                         Traceback (most recent call last)",
            "\u001b[0;32m/usr/local/lib/python3.6/dist-packages/ipykernel/kernelbase.py\u001b[0m in \u001b[0;36m_input_request\u001b[0;34m(self, prompt, ident, parent, password)\u001b[0m\n\u001b[1;32m    728\u001b[0m             \u001b[0;32mtry\u001b[0m\u001b[0;34m:\u001b[0m\u001b[0;34m\u001b[0m\u001b[0;34m\u001b[0m\u001b[0m\n\u001b[0;32m--> 729\u001b[0;31m                 \u001b[0mident\u001b[0m\u001b[0;34m,\u001b[0m \u001b[0mreply\u001b[0m \u001b[0;34m=\u001b[0m \u001b[0mself\u001b[0m\u001b[0;34m.\u001b[0m\u001b[0msession\u001b[0m\u001b[0;34m.\u001b[0m\u001b[0mrecv\u001b[0m\u001b[0;34m(\u001b[0m\u001b[0mself\u001b[0m\u001b[0;34m.\u001b[0m\u001b[0mstdin_socket\u001b[0m\u001b[0;34m,\u001b[0m \u001b[0;36m0\u001b[0m\u001b[0;34m)\u001b[0m\u001b[0;34m\u001b[0m\u001b[0;34m\u001b[0m\u001b[0m\n\u001b[0m\u001b[1;32m    730\u001b[0m             \u001b[0;32mexcept\u001b[0m \u001b[0mException\u001b[0m\u001b[0;34m:\u001b[0m\u001b[0;34m\u001b[0m\u001b[0;34m\u001b[0m\u001b[0m\n",
            "\u001b[0;32m/usr/local/lib/python3.6/dist-packages/jupyter_client/session.py\u001b[0m in \u001b[0;36mrecv\u001b[0;34m(self, socket, mode, content, copy)\u001b[0m\n\u001b[1;32m    802\u001b[0m         \u001b[0;32mtry\u001b[0m\u001b[0;34m:\u001b[0m\u001b[0;34m\u001b[0m\u001b[0;34m\u001b[0m\u001b[0m\n\u001b[0;32m--> 803\u001b[0;31m             \u001b[0mmsg_list\u001b[0m \u001b[0;34m=\u001b[0m \u001b[0msocket\u001b[0m\u001b[0;34m.\u001b[0m\u001b[0mrecv_multipart\u001b[0m\u001b[0;34m(\u001b[0m\u001b[0mmode\u001b[0m\u001b[0;34m,\u001b[0m \u001b[0mcopy\u001b[0m\u001b[0;34m=\u001b[0m\u001b[0mcopy\u001b[0m\u001b[0;34m)\u001b[0m\u001b[0;34m\u001b[0m\u001b[0;34m\u001b[0m\u001b[0m\n\u001b[0m\u001b[1;32m    804\u001b[0m         \u001b[0;32mexcept\u001b[0m \u001b[0mzmq\u001b[0m\u001b[0;34m.\u001b[0m\u001b[0mZMQError\u001b[0m \u001b[0;32mas\u001b[0m \u001b[0me\u001b[0m\u001b[0;34m:\u001b[0m\u001b[0;34m\u001b[0m\u001b[0;34m\u001b[0m\u001b[0m\n",
            "\u001b[0;32m/usr/local/lib/python3.6/dist-packages/zmq/sugar/socket.py\u001b[0m in \u001b[0;36mrecv_multipart\u001b[0;34m(self, flags, copy, track)\u001b[0m\n\u001b[1;32m    474\u001b[0m         \"\"\"\n\u001b[0;32m--> 475\u001b[0;31m         \u001b[0mparts\u001b[0m \u001b[0;34m=\u001b[0m \u001b[0;34m[\u001b[0m\u001b[0mself\u001b[0m\u001b[0;34m.\u001b[0m\u001b[0mrecv\u001b[0m\u001b[0;34m(\u001b[0m\u001b[0mflags\u001b[0m\u001b[0;34m,\u001b[0m \u001b[0mcopy\u001b[0m\u001b[0;34m=\u001b[0m\u001b[0mcopy\u001b[0m\u001b[0;34m,\u001b[0m \u001b[0mtrack\u001b[0m\u001b[0;34m=\u001b[0m\u001b[0mtrack\u001b[0m\u001b[0;34m)\u001b[0m\u001b[0;34m]\u001b[0m\u001b[0;34m\u001b[0m\u001b[0;34m\u001b[0m\u001b[0m\n\u001b[0m\u001b[1;32m    476\u001b[0m         \u001b[0;31m# have first part already, only loop while more to receive\u001b[0m\u001b[0;34m\u001b[0m\u001b[0;34m\u001b[0m\u001b[0;34m\u001b[0m\u001b[0m\n",
            "\u001b[0;32mzmq/backend/cython/socket.pyx\u001b[0m in \u001b[0;36mzmq.backend.cython.socket.Socket.recv\u001b[0;34m()\u001b[0m\n",
            "\u001b[0;32mzmq/backend/cython/socket.pyx\u001b[0m in \u001b[0;36mzmq.backend.cython.socket.Socket.recv\u001b[0;34m()\u001b[0m\n",
            "\u001b[0;32mzmq/backend/cython/socket.pyx\u001b[0m in \u001b[0;36mzmq.backend.cython.socket._recv_copy\u001b[0;34m()\u001b[0m\n",
            "\u001b[0;32m/usr/local/lib/python3.6/dist-packages/zmq/backend/cython/checkrc.pxd\u001b[0m in \u001b[0;36mzmq.backend.cython.checkrc._check_rc\u001b[0;34m()\u001b[0m\n",
            "\u001b[0;31mKeyboardInterrupt\u001b[0m: ",
            "\nDuring handling of the above exception, another exception occurred:\n",
            "\u001b[0;31mKeyboardInterrupt\u001b[0m                         Traceback (most recent call last)",
            "\u001b[0;32m<ipython-input-5-d5df0069828e>\u001b[0m in \u001b[0;36m<module>\u001b[0;34m()\u001b[0m\n\u001b[1;32m      1\u001b[0m \u001b[0;32mfrom\u001b[0m \u001b[0mgoogle\u001b[0m\u001b[0;34m.\u001b[0m\u001b[0mcolab\u001b[0m \u001b[0;32mimport\u001b[0m \u001b[0mdrive\u001b[0m\u001b[0;34m\u001b[0m\u001b[0;34m\u001b[0m\u001b[0m\n\u001b[0;32m----> 2\u001b[0;31m \u001b[0mdrive\u001b[0m\u001b[0;34m.\u001b[0m\u001b[0mmount\u001b[0m\u001b[0;34m(\u001b[0m\u001b[0;34m'/content/drive'\u001b[0m\u001b[0;34m)\u001b[0m\u001b[0;34m\u001b[0m\u001b[0;34m\u001b[0m\u001b[0m\n\u001b[0m",
            "\u001b[0;32m/usr/local/lib/python3.6/dist-packages/google/colab/drive.py\u001b[0m in \u001b[0;36mmount\u001b[0;34m(mountpoint, force_remount, timeout_ms, use_metadata_server)\u001b[0m\n\u001b[1;32m    240\u001b[0m       \u001b[0mauth_prompt\u001b[0m \u001b[0;34m=\u001b[0m \u001b[0md\u001b[0m\u001b[0;34m.\u001b[0m\u001b[0mmatch\u001b[0m\u001b[0;34m.\u001b[0m\u001b[0mgroup\u001b[0m\u001b[0;34m(\u001b[0m\u001b[0;36m1\u001b[0m\u001b[0;34m)\u001b[0m \u001b[0;34m+\u001b[0m \u001b[0;34m'\\nEnter your authorization code:\\n'\u001b[0m\u001b[0;34m\u001b[0m\u001b[0;34m\u001b[0m\u001b[0m\n\u001b[1;32m    241\u001b[0m       \u001b[0;32mwith\u001b[0m \u001b[0mopen\u001b[0m\u001b[0;34m(\u001b[0m\u001b[0mfifo\u001b[0m\u001b[0;34m,\u001b[0m \u001b[0;34m'w'\u001b[0m\u001b[0;34m)\u001b[0m \u001b[0;32mas\u001b[0m \u001b[0mfifo_file\u001b[0m\u001b[0;34m:\u001b[0m\u001b[0;34m\u001b[0m\u001b[0;34m\u001b[0m\u001b[0m\n\u001b[0;32m--> 242\u001b[0;31m         \u001b[0mfifo_file\u001b[0m\u001b[0;34m.\u001b[0m\u001b[0mwrite\u001b[0m\u001b[0;34m(\u001b[0m\u001b[0m_getpass\u001b[0m\u001b[0;34m.\u001b[0m\u001b[0mgetpass\u001b[0m\u001b[0;34m(\u001b[0m\u001b[0mauth_prompt\u001b[0m\u001b[0;34m)\u001b[0m \u001b[0;34m+\u001b[0m \u001b[0;34m'\\n'\u001b[0m\u001b[0;34m)\u001b[0m\u001b[0;34m\u001b[0m\u001b[0;34m\u001b[0m\u001b[0m\n\u001b[0m\u001b[1;32m    243\u001b[0m       \u001b[0mwrote_to_fifo\u001b[0m \u001b[0;34m=\u001b[0m \u001b[0;32mTrue\u001b[0m\u001b[0;34m\u001b[0m\u001b[0;34m\u001b[0m\u001b[0m\n\u001b[1;32m    244\u001b[0m   \u001b[0;32mif\u001b[0m \u001b[0;32mnot\u001b[0m \u001b[0mwrote_to_fifo\u001b[0m\u001b[0;34m:\u001b[0m\u001b[0;34m\u001b[0m\u001b[0;34m\u001b[0m\u001b[0m\n",
            "\u001b[0;32m/usr/local/lib/python3.6/dist-packages/ipykernel/kernelbase.py\u001b[0m in \u001b[0;36mgetpass\u001b[0;34m(self, prompt, stream)\u001b[0m\n\u001b[1;32m    685\u001b[0m             \u001b[0mself\u001b[0m\u001b[0;34m.\u001b[0m\u001b[0m_parent_ident\u001b[0m\u001b[0;34m,\u001b[0m\u001b[0;34m\u001b[0m\u001b[0;34m\u001b[0m\u001b[0m\n\u001b[1;32m    686\u001b[0m             \u001b[0mself\u001b[0m\u001b[0;34m.\u001b[0m\u001b[0m_parent_header\u001b[0m\u001b[0;34m,\u001b[0m\u001b[0;34m\u001b[0m\u001b[0;34m\u001b[0m\u001b[0m\n\u001b[0;32m--> 687\u001b[0;31m             \u001b[0mpassword\u001b[0m\u001b[0;34m=\u001b[0m\u001b[0;32mTrue\u001b[0m\u001b[0;34m,\u001b[0m\u001b[0;34m\u001b[0m\u001b[0;34m\u001b[0m\u001b[0m\n\u001b[0m\u001b[1;32m    688\u001b[0m         )\n\u001b[1;32m    689\u001b[0m \u001b[0;34m\u001b[0m\u001b[0m\n",
            "\u001b[0;32m/usr/local/lib/python3.6/dist-packages/ipykernel/kernelbase.py\u001b[0m in \u001b[0;36m_input_request\u001b[0;34m(self, prompt, ident, parent, password)\u001b[0m\n\u001b[1;32m    732\u001b[0m             \u001b[0;32mexcept\u001b[0m \u001b[0mKeyboardInterrupt\u001b[0m\u001b[0;34m:\u001b[0m\u001b[0;34m\u001b[0m\u001b[0;34m\u001b[0m\u001b[0m\n\u001b[1;32m    733\u001b[0m                 \u001b[0;31m# re-raise KeyboardInterrupt, to truncate traceback\u001b[0m\u001b[0;34m\u001b[0m\u001b[0;34m\u001b[0m\u001b[0;34m\u001b[0m\u001b[0m\n\u001b[0;32m--> 734\u001b[0;31m                 \u001b[0;32mraise\u001b[0m \u001b[0mKeyboardInterrupt\u001b[0m\u001b[0;34m\u001b[0m\u001b[0;34m\u001b[0m\u001b[0m\n\u001b[0m\u001b[1;32m    735\u001b[0m             \u001b[0;32melse\u001b[0m\u001b[0;34m:\u001b[0m\u001b[0;34m\u001b[0m\u001b[0;34m\u001b[0m\u001b[0m\n\u001b[1;32m    736\u001b[0m                 \u001b[0;32mbreak\u001b[0m\u001b[0;34m\u001b[0m\u001b[0;34m\u001b[0m\u001b[0m\n",
            "\u001b[0;31mKeyboardInterrupt\u001b[0m: "
          ]
        }
      ]
    },
    {
      "cell_type": "code",
      "metadata": {
        "id": "lKJYKfHOCQ8Y",
        "colab_type": "code",
        "colab": {
          "base_uri": "https://localhost:8080/",
          "height": 153
        },
        "outputId": "ddc6f9d8-9bda-4b01-adaf-50201af54b53"
      },
      "source": [
        "!unzip -o -q '/content/drive/My Drive/Dataset.zip'"
      ],
      "execution_count": null,
      "outputs": [
        {
          "output_type": "stream",
          "text": [
            "warning [/content/drive/My Drive/Dataset.zip]:  76 extra bytes at beginning or within zipfile\n",
            "  (attempting to process anyway)\n",
            "error [/content/drive/My Drive/Dataset.zip]:  reported length of central directory is\n",
            "  -76 bytes too long (Atari STZip zipfile?  J.H.Holm ZIPSPLIT 1.1\n",
            "  zipfile?).  Compensating...\n",
            "error:  expected central file header signature not found (file #278362).\n",
            "  (please check that you have transferred or created the zipfile in the\n",
            "  appropriate BINARY mode and that you have compiled UnZip properly)\n"
          ],
          "name": "stdout"
        }
      ]
    },
    {
      "cell_type": "code",
      "metadata": {
        "id": "Nr2tGc0tCrZk",
        "colab_type": "code",
        "colab": {}
      },
      "source": [
        "all_images_dir = 'all_images_dir'\n",
        "os.mkdir(all_images_dir)\n",
        "os.mkdir('all_images_dir/1')\n",
        "os.mkdir('all_images_dir/0')"
      ],
      "execution_count": null,
      "outputs": []
    },
    {
      "cell_type": "code",
      "metadata": {
        "id": "fmlpV64BCuc1",
        "colab_type": "code",
        "colab": {}
      },
      "source": [
        "cur_dir = '/content/Dataset'\n",
        "patient_list = os.listdir(cur_dir)\n",
        "all_images = '/content/all_images_dir'\n",
        "for i in range(len(patient_list)):\n",
        "  temp = cur_dir + '/'+ str(patient_list[i])\n",
        "  try:\n",
        "    path_0 = temp + '/0'\n",
        "    path_1 = temp + '/1'\n",
        "    file_list_0 = os.listdir(path_0)\n",
        "    file_list_1 = os.listdir(path_1)\n",
        "\n",
        "    for fname in file_list_0:\n",
        "        src = os.path.join(path_0, fname)\n",
        "        dst = os.path.join(all_images_dir, '0', fname)\n",
        "        shutil.copyfile(src, dst)\n",
        "\n",
        "    for fname in file_list_1:\n",
        "        src = os.path.join(path_1, fname)\n",
        "        dst = os.path.join(all_images_dir, '1', fname)\n",
        "        shutil.copyfile(src, dst)\n",
        "        \n",
        "  except:\n",
        "     print(temp, 'cannot be copied into proper folder')"
      ],
      "execution_count": null,
      "outputs": []
    },
    {
      "cell_type": "code",
      "metadata": {
        "id": "dlvM0DzkDNf5",
        "colab_type": "code",
        "colab": {
          "base_uri": "https://localhost:8080/",
          "height": 68
        },
        "outputId": "cac7ad80-bb04-4486-b0c9-c0e8b638daae"
      },
      "source": [
        "print('Total:', len(os.listdir('all_images_dir/1'))+len(os.listdir('all_images_dir/0')))\n",
        "print('Positive:', len(os.listdir('all_images_dir/1')))\n",
        "print('Negative:', len(os.listdir('all_images_dir/0')))"
      ],
      "execution_count": null,
      "outputs": [
        {
          "output_type": "stream",
          "text": [
            "Total: 277524\n",
            "Positive: 78786\n",
            "Negative: 198738\n"
          ],
          "name": "stdout"
        }
      ]
    },
    {
      "cell_type": "code",
      "metadata": {
        "id": "D9aMUU62ETcf",
        "colab_type": "code",
        "colab": {}
      },
      "source": [
        "image_list_1 = os.listdir('all_images_dir/1')\n",
        "df_data_1 = pd.DataFrame(image_list_1, columns=['image_id'])\n",
        "\n",
        "image_list_0 = os.listdir('all_images_dir/0')\n",
        "df_data_0 = pd.DataFrame(image_list_0, columns=['image_id'])\n",
        "\n",
        "df_data = pd.concat([df_data_1, df_data_0])"
      ],
      "execution_count": null,
      "outputs": []
    },
    {
      "cell_type": "code",
      "metadata": {
        "id": "OA93-3yNEWaK",
        "colab_type": "code",
        "colab": {
          "base_uri": "https://localhost:8080/",
          "height": 204
        },
        "outputId": "afd989a5-7d94-489f-ca66-32f90d22a709"
      },
      "source": [
        "df_data.head()"
      ],
      "execution_count": null,
      "outputs": [
        {
          "output_type": "execute_result",
          "data": {
            "text/html": [
              "<div>\n",
              "<style scoped>\n",
              "    .dataframe tbody tr th:only-of-type {\n",
              "        vertical-align: middle;\n",
              "    }\n",
              "\n",
              "    .dataframe tbody tr th {\n",
              "        vertical-align: top;\n",
              "    }\n",
              "\n",
              "    .dataframe thead th {\n",
              "        text-align: right;\n",
              "    }\n",
              "</style>\n",
              "<table border=\"1\" class=\"dataframe\">\n",
              "  <thead>\n",
              "    <tr style=\"text-align: right;\">\n",
              "      <th></th>\n",
              "      <th>image_id</th>\n",
              "    </tr>\n",
              "  </thead>\n",
              "  <tbody>\n",
              "    <tr>\n",
              "      <th>0</th>\n",
              "      <td>10264_idx5_x1401_y901_class1.png</td>\n",
              "    </tr>\n",
              "    <tr>\n",
              "      <th>1</th>\n",
              "      <td>16165_idx5_x1351_y1801_class1.png</td>\n",
              "    </tr>\n",
              "    <tr>\n",
              "      <th>2</th>\n",
              "      <td>12906_idx5_x2051_y1801_class1.png</td>\n",
              "    </tr>\n",
              "    <tr>\n",
              "      <th>3</th>\n",
              "      <td>8916_idx5_x451_y1551_class1.png</td>\n",
              "    </tr>\n",
              "    <tr>\n",
              "      <th>4</th>\n",
              "      <td>13687_idx5_x2551_y451_class1.png</td>\n",
              "    </tr>\n",
              "  </tbody>\n",
              "</table>\n",
              "</div>"
            ],
            "text/plain": [
              "                            image_id\n",
              "0   10264_idx5_x1401_y901_class1.png\n",
              "1  16165_idx5_x1351_y1801_class1.png\n",
              "2  12906_idx5_x2051_y1801_class1.png\n",
              "3    8916_idx5_x451_y1551_class1.png\n",
              "4   13687_idx5_x2551_y451_class1.png"
            ]
          },
          "metadata": {
            "tags": []
          },
          "execution_count": 12
        }
      ]
    },
    {
      "cell_type": "code",
      "metadata": {
        "id": "2aL6EgHWE_Sz",
        "colab_type": "code",
        "colab": {
          "base_uri": "https://localhost:8080/",
          "height": 204
        },
        "outputId": "c970a0ac-2152-4da5-a0dd-b8d99e0c9c4b"
      },
      "source": [
        "def extract_patient_id(x):\n",
        "    a = x.split('_')\n",
        "    patient_id = a[0]   \n",
        "    return patient_id\n",
        "\n",
        "def extract_target(x):\n",
        "    a = x.split('_')\n",
        "    b = a[4]\n",
        "    target = b[5]\n",
        "    return target\n",
        "\n",
        "df_data['patient_id'] = df_data['image_id'].apply(extract_patient_id)\n",
        "df_data['target'] = df_data['image_id'].apply(extract_target)\n",
        "\n",
        "df_data.head()"
      ],
      "execution_count": null,
      "outputs": [
        {
          "output_type": "execute_result",
          "data": {
            "text/html": [
              "<div>\n",
              "<style scoped>\n",
              "    .dataframe tbody tr th:only-of-type {\n",
              "        vertical-align: middle;\n",
              "    }\n",
              "\n",
              "    .dataframe tbody tr th {\n",
              "        vertical-align: top;\n",
              "    }\n",
              "\n",
              "    .dataframe thead th {\n",
              "        text-align: right;\n",
              "    }\n",
              "</style>\n",
              "<table border=\"1\" class=\"dataframe\">\n",
              "  <thead>\n",
              "    <tr style=\"text-align: right;\">\n",
              "      <th></th>\n",
              "      <th>image_id</th>\n",
              "      <th>patient_id</th>\n",
              "      <th>target</th>\n",
              "    </tr>\n",
              "  </thead>\n",
              "  <tbody>\n",
              "    <tr>\n",
              "      <th>0</th>\n",
              "      <td>10264_idx5_x1401_y901_class1.png</td>\n",
              "      <td>10264</td>\n",
              "      <td>1</td>\n",
              "    </tr>\n",
              "    <tr>\n",
              "      <th>1</th>\n",
              "      <td>16165_idx5_x1351_y1801_class1.png</td>\n",
              "      <td>16165</td>\n",
              "      <td>1</td>\n",
              "    </tr>\n",
              "    <tr>\n",
              "      <th>2</th>\n",
              "      <td>12906_idx5_x2051_y1801_class1.png</td>\n",
              "      <td>12906</td>\n",
              "      <td>1</td>\n",
              "    </tr>\n",
              "    <tr>\n",
              "      <th>3</th>\n",
              "      <td>8916_idx5_x451_y1551_class1.png</td>\n",
              "      <td>8916</td>\n",
              "      <td>1</td>\n",
              "    </tr>\n",
              "    <tr>\n",
              "      <th>4</th>\n",
              "      <td>13687_idx5_x2551_y451_class1.png</td>\n",
              "      <td>13687</td>\n",
              "      <td>1</td>\n",
              "    </tr>\n",
              "  </tbody>\n",
              "</table>\n",
              "</div>"
            ],
            "text/plain": [
              "                            image_id patient_id target\n",
              "0   10264_idx5_x1401_y901_class1.png      10264      1\n",
              "1  16165_idx5_x1351_y1801_class1.png      16165      1\n",
              "2  12906_idx5_x2051_y1801_class1.png      12906      1\n",
              "3    8916_idx5_x451_y1551_class1.png       8916      1\n",
              "4   13687_idx5_x2551_y451_class1.png      13687      1"
            ]
          },
          "metadata": {
            "tags": []
          },
          "execution_count": 14
        }
      ]
    },
    {
      "cell_type": "code",
      "metadata": {
        "id": "rB1f1r5jFQmf",
        "colab_type": "code",
        "colab": {
          "base_uri": "https://localhost:8080/",
          "height": 51
        },
        "outputId": "42938014-2106-492e-ab61-bc58cfb8c19a"
      },
      "source": [
        "from sklearn.model_selection import train_test_split\n",
        "\n",
        "y = df_data['target']\n",
        "\n",
        "_, df_test = train_test_split(df_data, test_size=0.03603, random_state=42, stratify=y)\n",
        "\n",
        "_, df_val = train_test_split(df_data, test_size=0.0036025, random_state=42, stratify=y)\n",
        "\n",
        "print('Valid:', df_val.shape[0])\n",
        "print('Test:', df_test.shape[0])"
      ],
      "execution_count": null,
      "outputs": [
        {
          "output_type": "stream",
          "text": [
            "Valid: 1000\n",
            "Test: 10000\n"
          ],
          "name": "stdout"
        }
      ]
    },
    {
      "cell_type": "code",
      "metadata": {
        "id": "2MN-5IULFWyK",
        "colab_type": "code",
        "colab": {
          "base_uri": "https://localhost:8080/",
          "height": 204
        },
        "outputId": "7d9b3019-0ea3-49d8-f4bd-232b545a69fd"
      },
      "source": [
        "df_val.head()"
      ],
      "execution_count": null,
      "outputs": [
        {
          "output_type": "execute_result",
          "data": {
            "text/html": [
              "<div>\n",
              "<style scoped>\n",
              "    .dataframe tbody tr th:only-of-type {\n",
              "        vertical-align: middle;\n",
              "    }\n",
              "\n",
              "    .dataframe tbody tr th {\n",
              "        vertical-align: top;\n",
              "    }\n",
              "\n",
              "    .dataframe thead th {\n",
              "        text-align: right;\n",
              "    }\n",
              "</style>\n",
              "<table border=\"1\" class=\"dataframe\">\n",
              "  <thead>\n",
              "    <tr style=\"text-align: right;\">\n",
              "      <th></th>\n",
              "      <th>image_id</th>\n",
              "      <th>patient_id</th>\n",
              "      <th>target</th>\n",
              "    </tr>\n",
              "  </thead>\n",
              "  <tbody>\n",
              "    <tr>\n",
              "      <th>121626</th>\n",
              "      <td>13022_idx5_x1051_y1651_class0.png</td>\n",
              "      <td>13022</td>\n",
              "      <td>0</td>\n",
              "    </tr>\n",
              "    <tr>\n",
              "      <th>194027</th>\n",
              "      <td>13400_idx5_x1501_y1751_class0.png</td>\n",
              "      <td>13400</td>\n",
              "      <td>0</td>\n",
              "    </tr>\n",
              "    <tr>\n",
              "      <th>123961</th>\n",
              "      <td>10260_idx5_x251_y801_class0.png</td>\n",
              "      <td>10260</td>\n",
              "      <td>0</td>\n",
              "    </tr>\n",
              "    <tr>\n",
              "      <th>21361</th>\n",
              "      <td>10302_idx5_x2051_y1351_class1.png</td>\n",
              "      <td>10302</td>\n",
              "      <td>1</td>\n",
              "    </tr>\n",
              "    <tr>\n",
              "      <th>56886</th>\n",
              "      <td>13688_idx5_x251_y651_class0.png</td>\n",
              "      <td>13688</td>\n",
              "      <td>0</td>\n",
              "    </tr>\n",
              "  </tbody>\n",
              "</table>\n",
              "</div>"
            ],
            "text/plain": [
              "                                 image_id patient_id target\n",
              "121626  13022_idx5_x1051_y1651_class0.png      13022      0\n",
              "194027  13400_idx5_x1501_y1751_class0.png      13400      0\n",
              "123961    10260_idx5_x251_y801_class0.png      10260      0\n",
              "21361   10302_idx5_x2051_y1351_class1.png      10302      1\n",
              "56886     13688_idx5_x251_y651_class0.png      13688      0"
            ]
          },
          "metadata": {
            "tags": []
          },
          "execution_count": 16
        }
      ]
    },
    {
      "cell_type": "code",
      "metadata": {
        "id": "s0CDQWqMFqnJ",
        "colab_type": "code",
        "colab": {
          "base_uri": "https://localhost:8080/",
          "height": 68
        },
        "outputId": "2a37d372-07f6-43c6-e0d2-af5715bc8bab"
      },
      "source": [
        "def identify_train_val_and_test_rows(x):\n",
        "    val_list = list(df_val['image_id'])\n",
        "    test_list = list(df_test['image_id'])\n",
        "    \n",
        "    if str(x) in val_list:\n",
        "        return 'val'\n",
        "    elif str(x) in test_list:\n",
        "        return 'test'\n",
        "    else:\n",
        "        return 'train'\n",
        "\n",
        "df_data['train_or_val_or_test'] = df_data['image_id']\n",
        "df_data['train_or_val_or_test'] = df_data['train_or_val_or_test'].apply(identify_train_val_and_test_rows)\n",
        "   \n",
        "df_train = df_data[df_data['train_or_val_or_test'] == 'train']\n",
        "print('Train:', len(df_train))\n",
        "print('Valid:', len(df_val))\n",
        "print('Test:', len(df_test))"
      ],
      "execution_count": null,
      "outputs": [
        {
          "output_type": "stream",
          "text": [
            "Train: 267524\n",
            "Valid: 1000\n",
            "Test: 10000\n"
          ],
          "name": "stdout"
        }
      ]
    },
    {
      "cell_type": "code",
      "metadata": {
        "id": "HDXSlKKvGK1R",
        "colab_type": "code",
        "colab": {}
      },
      "source": [
        "train_dir = os.path.join('train_dir')\n",
        "os.mkdir(train_dir)\n",
        "\n",
        "val_dir = os.path.join('val_dir')\n",
        "os.mkdir(val_dir)\n",
        "\n",
        "test_dir = os.path.join('test_dir')\n",
        "os.mkdir(test_dir)\n",
        "\n",
        "os.mkdir(os.path.join(train_dir, '1'))\n",
        "os.mkdir(os.path.join(train_dir, '0'))\n",
        "\n",
        "os.mkdir(os.path.join(val_dir, '1'))\n",
        "os.mkdir(os.path.join(val_dir, '0'))\n",
        "\n",
        "os.mkdir(os.path.join(test_dir, '1'))\n",
        "os.mkdir(os.path.join(test_dir, '0'))"
      ],
      "execution_count": null,
      "outputs": []
    },
    {
      "cell_type": "code",
      "metadata": {
        "id": "6FHTvP5qm8Ag",
        "colab_type": "code",
        "colab": {
          "base_uri": "https://localhost:8080/",
          "height": 235
        },
        "outputId": "a2132cc3-f4f7-4c7a-a78d-4459a394e305"
      },
      "source": [
        "df_data.set_index('image_id', inplace=True)\n",
        "df_data.head()"
      ],
      "execution_count": null,
      "outputs": [
        {
          "output_type": "execute_result",
          "data": {
            "text/html": [
              "<div>\n",
              "<style scoped>\n",
              "    .dataframe tbody tr th:only-of-type {\n",
              "        vertical-align: middle;\n",
              "    }\n",
              "\n",
              "    .dataframe tbody tr th {\n",
              "        vertical-align: top;\n",
              "    }\n",
              "\n",
              "    .dataframe thead th {\n",
              "        text-align: right;\n",
              "    }\n",
              "</style>\n",
              "<table border=\"1\" class=\"dataframe\">\n",
              "  <thead>\n",
              "    <tr style=\"text-align: right;\">\n",
              "      <th></th>\n",
              "      <th>patient_id</th>\n",
              "      <th>target</th>\n",
              "      <th>train_or_val_or_test</th>\n",
              "    </tr>\n",
              "    <tr>\n",
              "      <th>image_id</th>\n",
              "      <th></th>\n",
              "      <th></th>\n",
              "      <th></th>\n",
              "    </tr>\n",
              "  </thead>\n",
              "  <tbody>\n",
              "    <tr>\n",
              "      <th>10264_idx5_x1401_y901_class1.png</th>\n",
              "      <td>10264</td>\n",
              "      <td>1</td>\n",
              "      <td>train</td>\n",
              "    </tr>\n",
              "    <tr>\n",
              "      <th>16165_idx5_x1351_y1801_class1.png</th>\n",
              "      <td>16165</td>\n",
              "      <td>1</td>\n",
              "      <td>train</td>\n",
              "    </tr>\n",
              "    <tr>\n",
              "      <th>12906_idx5_x2051_y1801_class1.png</th>\n",
              "      <td>12906</td>\n",
              "      <td>1</td>\n",
              "      <td>train</td>\n",
              "    </tr>\n",
              "    <tr>\n",
              "      <th>8916_idx5_x451_y1551_class1.png</th>\n",
              "      <td>8916</td>\n",
              "      <td>1</td>\n",
              "      <td>train</td>\n",
              "    </tr>\n",
              "    <tr>\n",
              "      <th>13687_idx5_x2551_y451_class1.png</th>\n",
              "      <td>13687</td>\n",
              "      <td>1</td>\n",
              "      <td>train</td>\n",
              "    </tr>\n",
              "  </tbody>\n",
              "</table>\n",
              "</div>"
            ],
            "text/plain": [
              "                                  patient_id target train_or_val_or_test\n",
              "image_id                                                                \n",
              "10264_idx5_x1401_y901_class1.png       10264      1                train\n",
              "16165_idx5_x1351_y1801_class1.png      16165      1                train\n",
              "12906_idx5_x2051_y1801_class1.png      12906      1                train\n",
              "8916_idx5_x451_y1551_class1.png         8916      1                train\n",
              "13687_idx5_x2551_y451_class1.png       13687      1                train"
            ]
          },
          "metadata": {
            "tags": []
          },
          "execution_count": 19
        }
      ]
    },
    {
      "cell_type": "code",
      "metadata": {
        "id": "TIwkUlUmGR6x",
        "colab_type": "code",
        "colab": {}
      },
      "source": [
        "train_list = list(df_train['image_id'])\n",
        "val_list = list(df_val['image_id'])\n",
        "test_list = list(df_test['image_id'])\n",
        "\n",
        "for image in train_list:    \n",
        "    pat_id = df_data.loc[image,'patient_id']\n",
        "    label = df_data.loc[image,'target']\n",
        "    src = '/content/all_images_dir/'+label +'/' + image\n",
        "    dst = os.path.join('/content/train_dir', label, image)\n",
        "    shutil.copyfile(src, dst)\n",
        "\n",
        "for image in val_list:  \n",
        "    pat_id = df_data.loc[image,'patient_id']\n",
        "    label = df_data.loc[image,'target']\n",
        "    src = '/content/all_images_dir/'+label+ '/' + image\n",
        "    dst = os.path.join('/content/val_dir', label, image)\n",
        "    shutil.copyfile(src, dst)\n",
        "    \n",
        "for image in test_list:  \n",
        "    pat_id = df_data.loc[image,'patient_id']\n",
        "    label = df_data.loc[image,'target']\n",
        "    src = '/content/all_images_dir/'+label+ '/' + image\n",
        "    dst = os.path.join('/content/test_dir', label, image)\n",
        "    shutil.copyfile(src, dst)"
      ],
      "execution_count": null,
      "outputs": []
    },
    {
      "cell_type": "code",
      "metadata": {
        "id": "lpST-doLKwhU",
        "colab_type": "code",
        "colab": {
          "base_uri": "https://localhost:8080/",
          "height": 221
        },
        "outputId": "b127c186-ee8a-4fdc-f1ea-9fc67b9924cb"
      },
      "source": [
        "print('Train Total:', len(os.listdir('train_dir/1'))+len(os.listdir('train_dir/0')))\n",
        "print('Valid Total:', len(os.listdir('val_dir/1'))+len(os.listdir('val_dir/0')))\n",
        "print('Test Total:', len(os.listdir('test_dir/1'))+len(os.listdir('test_dir/0')), '\\n')\n",
        "\n",
        "print('Train Negative:', len(os.listdir('train_dir/0')))\n",
        "print('Train Positive:', len(os.listdir('train_dir/1')), '\\n')\n",
        "\n",
        "print('Valid Negative:', len(os.listdir('val_dir/0')))\n",
        "print('Valid Positive:', len(os.listdir('val_dir/1')), '\\n')\n",
        "\n",
        "print('Test Negative:', len(os.listdir('test_dir/0')))\n",
        "print('Test Positive:', len(os.listdir('test_dir/1')))"
      ],
      "execution_count": null,
      "outputs": [
        {
          "output_type": "stream",
          "text": [
            "Train Total: 267524\n",
            "Valid Total: 1000\n",
            "Test Total: 10000 \n",
            "\n",
            "Train Negative: 191577\n",
            "Train Positive: 75947 \n",
            "\n",
            "Valid Negative: 716\n",
            "Valid Positive: 284 \n",
            "\n",
            "Test Negative: 7161\n",
            "Test Positive: 2839\n"
          ],
          "name": "stdout"
        }
      ]
    },
    {
      "cell_type": "code",
      "metadata": {
        "id": "sfHlDnnDOk3j",
        "colab_type": "code",
        "colab": {}
      },
      "source": [
        "train_path = '/content/train_dir'\n",
        "valid_path = '/content/val_dir'\n",
        "test_path = '/content/test_dir'\n",
        "\n",
        "num_train_samples = len(df_train)\n",
        "num_val_samples = len(df_val)\n",
        "\n",
        "train_batch_size = 500\n",
        "val_batch_size = 500\n",
        "\n",
        "train_steps = np.ceil(num_train_samples / train_batch_size)\n",
        "val_steps = np.ceil(num_val_samples / val_batch_size)"
      ],
      "execution_count": null,
      "outputs": []
    },
    {
      "cell_type": "code",
      "metadata": {
        "id": "vQvVDgTyX8IE",
        "colab_type": "code",
        "colab": {
          "base_uri": "https://localhost:8080/",
          "height": 51
        },
        "outputId": "2c07a2c5-63aa-4b56-aae1-108c479f4c52"
      },
      "source": [
        "print(train_steps)\n",
        "print(val_steps)"
      ],
      "execution_count": null,
      "outputs": [
        {
          "output_type": "stream",
          "text": [
            "536.0\n",
            "2.0\n"
          ],
          "name": "stdout"
        }
      ]
    },
    {
      "cell_type": "code",
      "metadata": {
        "id": "xkuTgJnpOo6G",
        "colab_type": "code",
        "colab": {
          "base_uri": "https://localhost:8080/",
          "height": 51
        },
        "outputId": "07df807c-6201-4c26-a956-f3920afb5cb7"
      },
      "source": [
        "image_size = 50\n",
        "\n",
        "from keras.preprocessing.image import ImageDataGenerator\n",
        "\n",
        "aug_dir = 'aug_dir'\n",
        "os.mkdir(aug_dir)\n",
        "img_dir = os.path.join(aug_dir, 'img_dir')\n",
        "os.mkdir(img_dir)\n",
        "img_list = os.listdir('/content/train_dir/1')\n",
        "\n",
        "for fname in img_list:\n",
        "    src = os.path.join('/content/train_dir/1', fname)\n",
        "    dst = os.path.join(img_dir, fname)\n",
        "    shutil.copyfile(src, dst)\n",
        "\n",
        "path = '/content/aug_dir'\n",
        "save_path = '/content/train_dir/1'\n",
        "\n",
        "datagen = ImageDataGenerator(\n",
        "    rotation_range=180,\n",
        "    width_shift_range=0.125,\n",
        "    height_shift_range=0.125,\n",
        "    zoom_range=[1.2, 1.325],\n",
        "    fill_mode='reflect')\n",
        "\n",
        "batch_size = 25\n",
        "\n",
        "aug_datagen = datagen.flow_from_directory(path,\n",
        "                                          save_to_dir=save_path,\n",
        "                                          save_format='jpg',\n",
        "                                          target_size=(image_size, image_size),\n",
        "                                          batch_size=batch_size)\n",
        "\n",
        "num_aug_images_wanted = len(os.listdir('train_dir/0')) # total number of images wanted in each class\n",
        "\n",
        "num_files = len(os.listdir(img_dir))\n",
        "num_batches = int(np.ceil((num_aug_images_wanted-num_files)/batch_size))\n",
        "#print(num_aug_images_wanted,num_files,num_batches)\n",
        "for i in range(0, num_batches):\n",
        "  next(aug_datagen)\n",
        "\n",
        "shutil.rmtree('aug_dir')"
      ],
      "execution_count": null,
      "outputs": [
        {
          "output_type": "stream",
          "text": [
            "Found 191594 images belonging to 1 classes.\n",
            "191577 191594 0\n"
          ],
          "name": "stdout"
        }
      ]
    },
    {
      "cell_type": "code",
      "metadata": {
        "id": "rAa8YCwhPnjt",
        "colab_type": "code",
        "colab": {
          "base_uri": "https://localhost:8080/",
          "height": 87
        },
        "outputId": "02e6b8df-b03e-422d-a40e-3a7a36a818be"
      },
      "source": [
        "  class_weights={\n",
        "    0: 1.0,  \n",
        "    1: 1.0,  \n",
        "}\n",
        "\n",
        "print('Train Total:', len(os.listdir('train_dir/1'))+len(os.listdir('train_dir/0')))\n",
        "print('Train Negative:', len(os.listdir('train_dir/0')))\n",
        "print('Train Positive:', len(os.listdir('train_dir/1')), '\\n')\n",
        "print(\"Tran\")"
      ],
      "execution_count": null,
      "outputs": [
        {
          "output_type": "stream",
          "text": [
            "Train Total: 383171\n",
            "Train Negative: 191577\n",
            "Train Positive: 191594 \n",
            "\n"
          ],
          "name": "stdout"
        }
      ]
    },
    {
      "cell_type": "code",
      "metadata": {
        "id": "-Om20naCVR_r",
        "colab_type": "code",
        "colab": {
          "base_uri": "https://localhost:8080/",
          "height": 68
        },
        "outputId": "91ea90d4-98a3-473d-9f51-02f174db8810"
      },
      "source": [
        "datagen = ImageDataGenerator(preprocessing_function=keras.applications.inception_v3.preprocess_input, \n",
        "                             horizontal_flip=True,\n",
        "                             vertical_flip=True)\n",
        "\n",
        "train_batches_bench = datagen.flow_from_directory(train_path, \n",
        "                                                  target_size=(image_size, image_size),\n",
        "                                                  batch_size=train_batch_size)\n",
        "\n",
        "valid_batches_bench = datagen.flow_from_directory(valid_path,  \n",
        "                                                  target_size=(image_size, image_size),\n",
        "                                                  batch_size=val_batch_size)\n",
        "\n",
        "test_batches_bench = datagen.flow_from_directory(test_path,  \n",
        "                                                 target_size=(image_size, image_size),\n",
        "                                                 batch_size=1,\n",
        "                                                 shuffle=False)"
      ],
      "execution_count": null,
      "outputs": [
        {
          "output_type": "stream",
          "text": [
            "Found 383171 images belonging to 2 classes.\n",
            "Found 1000 images belonging to 2 classes.\n",
            "Found 10000 images belonging to 2 classes.\n"
          ],
          "name": "stdout"
        }
      ]
    },
    {
      "cell_type": "code",
      "metadata": {
        "id": "Wom55kHQQDyd",
        "colab_type": "code",
        "colab": {
          "base_uri": "https://localhost:8080/",
          "height": 731
        },
        "outputId": "231f3e55-4c68-4e1d-a6ee-0c34d469a96b"
      },
      "source": [
        "from keras.models import Sequential, Model\n",
        "from keras.layers import Dense, Flatten, Input, Conv2D, MaxPooling2D, Dropout, Activation, GlobalAveragePooling2D\n",
        "from keras import regularizers\n",
        "from keras.optimizers import Adam\n",
        "import keras.backend.tensorflow_backend as K\n",
        "\n",
        "model = keras.models.Sequential()\n",
        "model.add(keras.layers.Conv2D(32,(3, 3),activation='relu',input_shape=(50,50,3),padding='Same'))\n",
        "model.add(keras.layers.Conv2D(64, (3, 3), activation='relu',padding='Same'))\n",
        "model.add(keras.layers.MaxPooling2D(pool_size=(2, 2)))\n",
        "model.add(keras.layers.BatchNormalization())\n",
        "model.add(keras.layers.Dropout(0.25))\n",
        "model.add(keras.layers.Conv2D(32,(3, 3),activation='relu',padding='Same'))\n",
        "model.add(keras.layers.Conv2D(64, (3, 3), activation='relu',padding='Same'))\n",
        "model.add(keras.layers.MaxPooling2D(pool_size=(2, 2)))\n",
        "model.add(keras.layers.BatchNormalization())\n",
        "model.add(keras.layers.Dropout(0.25))\n",
        "model.add(keras.layers.Flatten())\n",
        "model.add(keras.layers.Dense(2048, activation='relu'))\n",
        "model.add(keras.layers.Dropout(0.5))\n",
        "model.add(keras.layers.Dense(1024,activation='relu'))\n",
        "model.add(keras.layers.Dropout(0.5))\n",
        "model.add(keras.layers.Dense(512,activation='relu'))\n",
        "model.add(keras.layers.Dense(2, activation='softmax'))\n",
        "model.summary()"
      ],
      "execution_count": null,
      "outputs": [
        {
          "output_type": "stream",
          "text": [
            "Model: \"sequential_2\"\n",
            "_________________________________________________________________\n",
            "Layer (type)                 Output Shape              Param #   \n",
            "=================================================================\n",
            "conv2d_5 (Conv2D)            (None, 50, 50, 32)        896       \n",
            "_________________________________________________________________\n",
            "conv2d_6 (Conv2D)            (None, 50, 50, 64)        18496     \n",
            "_________________________________________________________________\n",
            "max_pooling2d_3 (MaxPooling2 (None, 25, 25, 64)        0         \n",
            "_________________________________________________________________\n",
            "batch_normalization_3 (Batch (None, 25, 25, 64)        256       \n",
            "_________________________________________________________________\n",
            "dropout_5 (Dropout)          (None, 25, 25, 64)        0         \n",
            "_________________________________________________________________\n",
            "conv2d_7 (Conv2D)            (None, 25, 25, 32)        18464     \n",
            "_________________________________________________________________\n",
            "conv2d_8 (Conv2D)            (None, 25, 25, 64)        18496     \n",
            "_________________________________________________________________\n",
            "max_pooling2d_4 (MaxPooling2 (None, 12, 12, 64)        0         \n",
            "_________________________________________________________________\n",
            "batch_normalization_4 (Batch (None, 12, 12, 64)        256       \n",
            "_________________________________________________________________\n",
            "dropout_6 (Dropout)          (None, 12, 12, 64)        0         \n",
            "_________________________________________________________________\n",
            "flatten_2 (Flatten)          (None, 9216)              0         \n",
            "_________________________________________________________________\n",
            "dense_5 (Dense)              (None, 2048)              18876416  \n",
            "_________________________________________________________________\n",
            "dropout_7 (Dropout)          (None, 2048)              0         \n",
            "_________________________________________________________________\n",
            "dense_6 (Dense)              (None, 1024)              2098176   \n",
            "_________________________________________________________________\n",
            "dropout_8 (Dropout)          (None, 1024)              0         \n",
            "_________________________________________________________________\n",
            "dense_7 (Dense)              (None, 512)               524800    \n",
            "_________________________________________________________________\n",
            "dense_8 (Dense)              (None, 2)                 1026      \n",
            "=================================================================\n",
            "Total params: 21,557,282\n",
            "Trainable params: 21,557,026\n",
            "Non-trainable params: 256\n",
            "_________________________________________________________________\n"
          ],
          "name": "stdout"
        }
      ]
    },
    {
      "cell_type": "code",
      "metadata": {
        "id": "HomD-3STSd3H",
        "colab_type": "code",
        "colab": {}
      },
      "source": [
        "from keras import metrics\n",
        "model.compile(loss='binary_crossentropy', optimizer='adadelta', metrics=['accuracy'])"
      ],
      "execution_count": null,
      "outputs": []
    },
    {
      "cell_type": "code",
      "metadata": {
        "id": "TGSpkSikSh6F",
        "colab_type": "code",
        "colab": {
          "base_uri": "https://localhost:8080/",
          "height": 581
        },
        "outputId": "7c7db647-be57-4685-81b9-14af813ee0c4"
      },
      "source": [
        "from keras.callbacks import ModelCheckpoint\n",
        "checkpointer_model = ModelCheckpoint(filepath='/content/drive/My Drive/model_eight_epochs.hdf5', verbose=1, save_best_only=True)\n",
        "history_model = model.fit_generator(train_batches_bench, \n",
        "                                            steps_per_epoch=train_steps, \n",
        "                                            class_weight=class_weights,\n",
        "                                            validation_data=valid_batches_bench,\n",
        "                                            validation_steps=val_steps,\n",
        "                                            callbacks=[checkpointer_model], \n",
        "                                            epochs=8, \n",
        "                                            verbose=1)"
      ],
      "execution_count": null,
      "outputs": [
        {
          "output_type": "stream",
          "text": [
            "Epoch 1/8\n",
            "536/536 [==============================] - 172s 320ms/step - loss: 0.3648 - accuracy: 0.8703 - val_loss: 0.3998 - val_accuracy: 0.8490\n",
            "\n",
            "Epoch 00001: val_loss improved from inf to 0.39982, saving model to /content/drive/My Drive/model_eight_epochs.hdf5\n",
            "Epoch 2/8\n",
            "536/536 [==============================] - 151s 283ms/step - loss: 0.2249 - accuracy: 0.9058 - val_loss: 0.3810 - val_accuracy: 0.8290\n",
            "\n",
            "Epoch 00002: val_loss improved from 0.39982 to 0.38099, saving model to /content/drive/My Drive/model_eight_epochs.hdf5\n",
            "Epoch 3/8\n",
            "536/536 [==============================] - 114s 213ms/step - loss: 0.2112 - accuracy: 0.9121 - val_loss: 0.3125 - val_accuracy: 0.8580\n",
            "\n",
            "Epoch 00003: val_loss improved from 0.38099 to 0.31247, saving model to /content/drive/My Drive/model_eight_epochs.hdf5\n",
            "Epoch 4/8\n",
            "536/536 [==============================] - 100s 186ms/step - loss: 0.2016 - accuracy: 0.9163 - val_loss: 0.3349 - val_accuracy: 0.8660\n",
            "\n",
            "Epoch 00004: val_loss did not improve from 0.31247\n",
            "Epoch 5/8\n",
            "536/536 [==============================] - 100s 187ms/step - loss: 0.1959 - accuracy: 0.9187 - val_loss: 0.3582 - val_accuracy: 0.8710\n",
            "\n",
            "Epoch 00005: val_loss did not improve from 0.31247\n",
            "Epoch 6/8\n",
            "536/536 [==============================] - 100s 186ms/step - loss: 0.1905 - accuracy: 0.9205 - val_loss: 0.2869 - val_accuracy: 0.8530\n",
            "\n",
            "Epoch 00006: val_loss improved from 0.31247 to 0.28695, saving model to /content/drive/My Drive/model_eight_epochs.hdf5\n",
            "Epoch 7/8\n",
            "536/536 [==============================] - 115s 215ms/step - loss: 0.1857 - accuracy: 0.9232 - val_loss: 0.2997 - val_accuracy: 0.8750\n",
            "\n",
            "Epoch 00007: val_loss did not improve from 0.28695\n",
            "Epoch 8/8\n",
            "536/536 [==============================] - 100s 186ms/step - loss: 0.1822 - accuracy: 0.9246 - val_loss: 0.2754 - val_accuracy: 0.8760\n",
            "\n",
            "Epoch 00008: val_loss improved from 0.28695 to 0.27543, saving model to /content/drive/My Drive/model_eight_epochs.hdf5\n"
          ],
          "name": "stdout"
        }
      ]
    },
    {
      "cell_type": "code",
      "metadata": {
        "id": "al8-Zb2uSjWk",
        "colab_type": "code",
        "colab": {}
      },
      "source": [
        "import matplotlib.patches as mpatches\n",
        "\n",
        "def plot_training(history):\n",
        "  \n",
        "    acc = history.history['accuracy'] \n",
        "    val_acc = history.history['val_accuracy']\n",
        "    loss = history.history['loss']\n",
        "    val_loss = history.history['val_loss']\n",
        "    epochs = range(len(acc))\n",
        "    \n",
        "    plt.plot(epochs,acc, 'b')\n",
        "    plt.plot(epochs,val_acc, 'r')\n",
        "    redp = mpatches.Patch(color='blue', label='Training Accuracy')\n",
        "    bluep = mpatches.Patch(color='red', label='Val Accuracy')\n",
        "    plt.legend(handles=[redp,bluep])\n",
        "    plt.title(\"Training & Validation Accuracy\")\n",
        "    \n",
        "    plt.figure()\n",
        "    plt.plot(epochs, loss, 'b')\n",
        "    plt.plot(epochs, val_loss, 'r')\n",
        "    redp = mpatches.Patch(color='blue', label='Training loss')\n",
        "    bluep = mpatches.Patch(color='red', label='Val loss')\n",
        "    plt.legend(handles=[redp,bluep])\n",
        "    plt.title(\"Training & Validation Loss\")\n",
        "    \n",
        "    plt.show()"
      ],
      "execution_count": null,
      "outputs": []
    },
    {
      "cell_type": "code",
      "metadata": {
        "id": "7eQEvfOCSt2H",
        "colab_type": "code",
        "colab": {
          "base_uri": "https://localhost:8080/",
          "height": 545
        },
        "outputId": "796c23e8-c5c3-47c9-843f-a8483487faa4"
      },
      "source": [
        "plot_training(model)"
      ],
      "execution_count": null,
      "outputs": [
        {
          "output_type": "display_data",
          "data": {
            "image/png": "[encoded data removed]",
            "text/plain": [
              "<Figure size 432x288 with 1 Axes>"
            ]
          },
          "metadata": {
            "tags": [],
            "needs_background": "light"
          }
        },
        {
          "output_type": "display_data",
          "data": {
            "image/png": "[encoded data removed]",
            "text/plain": [
              "<Figure size 432x288 with 1 Axes>"
            ]
          },
          "metadata": {
            "tags": [],
            "needs_background": "light"
          }
        }
      ]
    },
    {
      "cell_type": "code",
      "metadata": {
        "id": "NSt0BD1dwZJN",
        "colab_type": "code",
        "colab": {
          "base_uri": "https://localhost:8080/",
          "height": 169
        },
        "outputId": "4175319a-9080-4307-e44d-6661f656c9fe"
      },
      "source": [
        "preds = model.predict_generator(test_batches_bench, steps=len(df_test), verbose=1)"
      ],
      "execution_count": null,
      "outputs": [
        {
          "output_type": "error",
          "ename": "NameError",
          "evalue": "ignored",
          "traceback": [
            "\u001b[0;31m---------------------------------------------------------------------------\u001b[0m",
            "\u001b[0;31mNameError\u001b[0m                                 Traceback (most recent call last)",
            "\u001b[0;32m<ipython-input-25-00e24ebaedf6>\u001b[0m in \u001b[0;36m<module>\u001b[0;34m()\u001b[0m\n\u001b[0;32m----> 1\u001b[0;31m \u001b[0mpreds\u001b[0m \u001b[0;34m=\u001b[0m \u001b[0mmodel\u001b[0m\u001b[0;34m.\u001b[0m\u001b[0mpredict_generator\u001b[0m\u001b[0;34m(\u001b[0m\u001b[0mtest_batches_bench\u001b[0m\u001b[0;34m,\u001b[0m \u001b[0msteps\u001b[0m\u001b[0;34m=\u001b[0m\u001b[0mlen\u001b[0m\u001b[0;34m(\u001b[0m\u001b[0mdf_test\u001b[0m\u001b[0;34m)\u001b[0m\u001b[0;34m,\u001b[0m \u001b[0mverbose\u001b[0m\u001b[0;34m=\u001b[0m\u001b[0;36m1\u001b[0m\u001b[0;34m)\u001b[0m\u001b[0;34m\u001b[0m\u001b[0;34m\u001b[0m\u001b[0m\n\u001b[0m",
            "\u001b[0;31mNameError\u001b[0m: name 'model' is not defined"
          ]
        }
      ]
    },
    {
      "cell_type": "code",
      "metadata": {
        "id": "qc2aXuXawnmK",
        "colab_type": "code",
        "colab": {
          "base_uri": "https://localhost:8080/",
          "height": 186
        },
        "outputId": "84f6814b-328e-4e99-ef6f-38ed49e70f44"
      },
      "source": [
        "y_pred = np.argmax(preds, axis=1)\n",
        "y_true = test_batches_bench.classes"
      ],
      "execution_count": null,
      "outputs": [
        {
          "output_type": "error",
          "ename": "NameError",
          "evalue": "ignored",
          "traceback": [
            "\u001b[0;31m---------------------------------------------------------------------------\u001b[0m",
            "\u001b[0;31mNameError\u001b[0m                                 Traceback (most recent call last)",
            "\u001b[0;32m<ipython-input-26-4adc8ad4ae2d>\u001b[0m in \u001b[0;36m<module>\u001b[0;34m()\u001b[0m\n\u001b[0;32m----> 1\u001b[0;31m \u001b[0my_pred\u001b[0m \u001b[0;34m=\u001b[0m \u001b[0mnp\u001b[0m\u001b[0;34m.\u001b[0m\u001b[0margmax\u001b[0m\u001b[0;34m(\u001b[0m\u001b[0mpreds\u001b[0m\u001b[0;34m,\u001b[0m \u001b[0maxis\u001b[0m\u001b[0;34m=\u001b[0m\u001b[0;36m1\u001b[0m\u001b[0;34m)\u001b[0m\u001b[0;34m\u001b[0m\u001b[0;34m\u001b[0m\u001b[0m\n\u001b[0m\u001b[1;32m      2\u001b[0m \u001b[0my_true\u001b[0m \u001b[0;34m=\u001b[0m \u001b[0mtest_batches_bench\u001b[0m\u001b[0;34m.\u001b[0m\u001b[0mclasses\u001b[0m\u001b[0;34m\u001b[0m\u001b[0;34m\u001b[0m\u001b[0m\n",
            "\u001b[0;31mNameError\u001b[0m: name 'preds' is not defined"
          ]
        }
      ]
    },
    {
      "cell_type": "code",
      "metadata": {
        "id": "zRWATT70wv4S",
        "colab_type": "code",
        "colab": {
          "base_uri": "https://localhost:8080/",
          "height": 186
        },
        "outputId": "4c48269c-f867-4efd-e4d2-80bc1197b1db"
      },
      "source": [
        "from sklearn.metrics import accuracy_score\n",
        "print(f'Accuracy: {accuracy_score(y_true, y_pred):1.3f}%')"
      ],
      "execution_count": null,
      "outputs": [
        {
          "output_type": "error",
          "ename": "NameError",
          "evalue": "ignored",
          "traceback": [
            "\u001b[0;31m---------------------------------------------------------------------------\u001b[0m",
            "\u001b[0;31mNameError\u001b[0m                                 Traceback (most recent call last)",
            "\u001b[0;32m<ipython-input-27-a28541281e0f>\u001b[0m in \u001b[0;36m<module>\u001b[0;34m()\u001b[0m\n\u001b[1;32m      1\u001b[0m \u001b[0;32mfrom\u001b[0m \u001b[0msklearn\u001b[0m\u001b[0;34m.\u001b[0m\u001b[0mmetrics\u001b[0m \u001b[0;32mimport\u001b[0m \u001b[0maccuracy_score\u001b[0m\u001b[0;34m\u001b[0m\u001b[0;34m\u001b[0m\u001b[0m\n\u001b[0;32m----> 2\u001b[0;31m \u001b[0mprint\u001b[0m\u001b[0;34m(\u001b[0m\u001b[0;34mf'Accuracy: {accuracy_score(y_true, y_pred):1.3f}%'\u001b[0m\u001b[0;34m)\u001b[0m\u001b[0;34m\u001b[0m\u001b[0;34m\u001b[0m\u001b[0m\n\u001b[0m",
            "\u001b[0;31mNameError\u001b[0m: name 'y_true' is not defined"
          ]
        }
      ]
    },
    {
      "cell_type": "code",
      "metadata": {
        "id": "Ya8yAVoXwwsX",
        "colab_type": "code",
        "colab": {
          "base_uri": "https://localhost:8080/",
          "height": 1000
        },
        "outputId": "843951f5-4964-44b5-a4bf-bfb0a4fc08e8"
      },
      "source": [
        "x, y = valid_batches_bench.next()\n",
        "for i in range(1,10):\n",
        "  \n",
        "  image = x[i]\n",
        "  label = y[i]\n",
        "  \n",
        "  if np.argmax(label, axis=0) == 0:\n",
        "      print('IDC negative')\n",
        "  if np.argmax(label, axis=0) == 1:\n",
        "    print('IDC positive')\n",
        "\n",
        "  prob = model.predict(image.reshape(1,50,50,3))\n",
        "  for a in prob:\n",
        "    for b in a:\n",
        "      print(f'Predicted Negative Probability: {(b*100):1.2f}%')\n",
        "      print(f'Predicted Positive Probability: {(1-b)*100:1.2f}%')\n",
        "      break\n",
        "\n",
        "  plt.imshow(image)\n",
        "  plt.show()"
      ],
      "execution_count": null,
      "outputs": [
        {
          "output_type": "stream",
          "text": [
            "Clipping input data to the valid range for imshow with RGB data ([0..1] for floats or [0..255] for integers).\n"
          ],
          "name": "stderr"
        },
        {
          "output_type": "stream",
          "text": [
            "IDC negative\n",
            "Predicted Negative Probability: 82.18%\n",
            "Predicted Positive Probability: 17.82%\n"
          ],
          "name": "stdout"
        },
        {
          "output_type": "display_data",
          "data": {
            "image/png": "[encoded data removed]",
            "text/plain": [
              "<Figure size 432x288 with 1 Axes>"
            ]
          },
          "metadata": {
            "tags": [],
            "needs_background": "light"
          }
        },
        {
          "output_type": "stream",
          "text": [
            "Clipping input data to the valid range for imshow with RGB data ([0..1] for floats or [0..255] for integers).\n"
          ],
          "name": "stderr"
        },
        {
          "output_type": "stream",
          "text": [
            "IDC positive\n",
            "Predicted Negative Probability: 30.19%\n",
            "Predicted Positive Probability: 69.81%\n"
          ],
          "name": "stdout"
        },
        {
          "output_type": "display_data",
          "data": {
            "image/png": "[encoded data removed]",
            "text/plain": [
              "<Figure size 432x288 with 1 Axes>"
            ]
          },
          "metadata": {
            "tags": [],
            "needs_background": "light"
          }
        },
        {
          "output_type": "stream",
          "text": [
            "Clipping input data to the valid range for imshow with RGB data ([0..1] for floats or [0..255] for integers).\n"
          ],
          "name": "stderr"
        },
        {
          "output_type": "stream",
          "text": [
            "IDC negative\n",
            "Predicted Negative Probability: 99.91%\n",
            "Predicted Positive Probability: 0.09%\n"
          ],
          "name": "stdout"
        },
        {
          "output_type": "display_data",
          "data": {
            "image/png": "[encoded data removed]",
            "text/plain": [
              "<Figure size 432x288 with 1 Axes>"
            ]
          },
          "metadata": {
            "tags": [],
            "needs_background": "light"
          }
        },
        {
          "output_type": "stream",
          "text": [
            "Clipping input data to the valid range for imshow with RGB data ([0..1] for floats or [0..255] for integers).\n"
          ],
          "name": "stderr"
        },
        {
          "output_type": "stream",
          "text": [
            "IDC negative\n",
            "Predicted Negative Probability: 98.62%\n",
            "Predicted Positive Probability: 1.38%\n"
          ],
          "name": "stdout"
        },
        {
          "output_type": "display_data",
          "data": {
            "image/png": "[encoded data removed]",
            "text/plain": [
              "<Figure size 432x288 with 1 Axes>"
            ]
          },
          "metadata": {
            "tags": [],
            "needs_background": "light"
          }
        },
        {
          "output_type": "stream",
          "text": [
            "Clipping input data to the valid range for imshow with RGB data ([0..1] for floats or [0..255] for integers).\n"
          ],
          "name": "stderr"
        },
        {
          "output_type": "stream",
          "text": [
            "IDC negative\n",
            "Predicted Negative Probability: 93.80%\n",
            "Predicted Positive Probability: 6.20%\n"
          ],
          "name": "stdout"
        },
        {
          "output_type": "display_data",
          "data": {
            "image/png": "[encoded data removed]",
            "text/plain": [
              "<Figure size 432x288 with 1 Axes>"
            ]
          },
          "metadata": {
            "tags": [],
            "needs_background": "light"
          }
        },
        {
          "output_type": "stream",
          "text": [
            "Clipping input data to the valid range for imshow with RGB data ([0..1] for floats or [0..255] for integers).\n"
          ],
          "name": "stderr"
        },
        {
          "output_type": "stream",
          "text": [
            "IDC negative\n",
            "Predicted Negative Probability: 95.37%\n",
            "Predicted Positive Probability: 4.63%\n"
          ],
          "name": "stdout"
        },
        {
          "output_type": "display_data",
          "data": {
            "image/png": "[encoded data removed]",
            "text/plain": [
              "<Figure size 432x288 with 1 Axes>"
            ]
          },
          "metadata": {
            "tags": [],
            "needs_background": "light"
          }
        },
        {
          "output_type": "stream",
          "text": [
            "Clipping input data to the valid range for imshow with RGB data ([0..1] for floats or [0..255] for integers).\n"
          ],
          "name": "stderr"
        },
        {
          "output_type": "stream",
          "text": [
            "IDC negative\n",
            "Predicted Negative Probability: 99.84%\n",
            "Predicted Positive Probability: 0.16%\n"
          ],
          "name": "stdout"
        },
        {
          "output_type": "display_data",
          "data": {
            "image/png": "[encoded data removed]",
            "text/plain": [
              "<Figure size 432x288 with 1 Axes>"
            ]
          },
          "metadata": {
            "tags": [],
            "needs_background": "light"
          }
        },
        {
          "output_type": "stream",
          "text": [
            "Clipping input data to the valid range for imshow with RGB data ([0..1] for floats or [0..255] for integers).\n"
          ],
          "name": "stderr"
        },
        {
          "output_type": "stream",
          "text": [
            "IDC negative\n",
            "Predicted Negative Probability: 88.97%\n",
            "Predicted Positive Probability: 11.03%\n"
          ],
          "name": "stdout"
        },
        {
          "output_type": "display_data",
          "data": {
            "image/png": "[encoded data removed]",
            "text/plain": [
              "<Figure size 432x288 with 1 Axes>"
            ]
          },
          "metadata": {
            "tags": [],
            "needs_background": "light"
          }
        },
        {
          "output_type": "stream",
          "text": [
            "Clipping input data to the valid range for imshow with RGB data ([0..1] for floats or [0..255] for integers).\n"
          ],
          "name": "stderr"
        },
        {
          "output_type": "stream",
          "text": [
            "IDC negative\n",
            "Predicted Negative Probability: 97.44%\n",
            "Predicted Positive Probability: 2.56%\n"
          ],
          "name": "stdout"
        },
        {
          "output_type": "display_data",
          "data": {
            "image/png": "[encoded data removed]",
            "text/plain": [
              "<Figure size 432x288 with 1 Axes>"
            ]
          },
          "metadata": {
            "tags": [],
            "needs_background": "light"
          }
        }
      ]
    },
    {
      "cell_type": "code",
      "metadata": {
        "id": "6hi1M9pmYu_L",
        "colab_type": "code",
        "colab": {}
      },
      "source": [
        ""
      ],
      "execution_count": null,
      "outputs": []
    }
  ]
}